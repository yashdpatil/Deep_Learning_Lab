{
 "cells": [
  {
   "cell_type": "code",
   "execution_count": 1,
   "id": "16281730",
   "metadata": {},
   "outputs": [],
   "source": [
    "import numpy as np\n",
    "import pandas as pd"
   ]
  },
  {
   "cell_type": "code",
   "execution_count": 2,
   "id": "af4589da",
   "metadata": {
    "scrolled": true
   },
   "outputs": [],
   "source": [
    "data=pd.read_csv(\"boston_assign_1.csv\")"
   ]
  },
  {
   "cell_type": "code",
   "execution_count": 3,
   "id": "1faea698",
   "metadata": {},
   "outputs": [
    {
     "data": {
      "text/html": [
       "<div>\n",
       "<style scoped>\n",
       "    .dataframe tbody tr th:only-of-type {\n",
       "        vertical-align: middle;\n",
       "    }\n",
       "\n",
       "    .dataframe tbody tr th {\n",
       "        vertical-align: top;\n",
       "    }\n",
       "\n",
       "    .dataframe thead th {\n",
       "        text-align: right;\n",
       "    }\n",
       "</style>\n",
       "<table border=\"1\" class=\"dataframe\">\n",
       "  <thead>\n",
       "    <tr style=\"text-align: right;\">\n",
       "      <th></th>\n",
       "      <th>CRIM</th>\n",
       "      <th>ZN</th>\n",
       "      <th>INDUS</th>\n",
       "      <th>CHAS</th>\n",
       "      <th>NOX</th>\n",
       "      <th>RM</th>\n",
       "      <th>AGE</th>\n",
       "      <th>DIS</th>\n",
       "      <th>RAD</th>\n",
       "      <th>TAX</th>\n",
       "      <th>PTRATIO</th>\n",
       "      <th>B</th>\n",
       "      <th>LSTAT</th>\n",
       "      <th>PRICE</th>\n",
       "    </tr>\n",
       "  </thead>\n",
       "  <tbody>\n",
       "    <tr>\n",
       "      <th>0</th>\n",
       "      <td>0.00632</td>\n",
       "      <td>18.0</td>\n",
       "      <td>2.31</td>\n",
       "      <td>0.0</td>\n",
       "      <td>0.538</td>\n",
       "      <td>6.575</td>\n",
       "      <td>65.2</td>\n",
       "      <td>4.0900</td>\n",
       "      <td>1</td>\n",
       "      <td>296</td>\n",
       "      <td>15.3</td>\n",
       "      <td>396.90</td>\n",
       "      <td>4.98</td>\n",
       "      <td>24.0</td>\n",
       "    </tr>\n",
       "    <tr>\n",
       "      <th>1</th>\n",
       "      <td>0.02731</td>\n",
       "      <td>0.0</td>\n",
       "      <td>7.07</td>\n",
       "      <td>0.0</td>\n",
       "      <td>0.469</td>\n",
       "      <td>6.421</td>\n",
       "      <td>78.9</td>\n",
       "      <td>4.9671</td>\n",
       "      <td>2</td>\n",
       "      <td>242</td>\n",
       "      <td>17.8</td>\n",
       "      <td>396.90</td>\n",
       "      <td>9.14</td>\n",
       "      <td>21.6</td>\n",
       "    </tr>\n",
       "    <tr>\n",
       "      <th>2</th>\n",
       "      <td>0.02729</td>\n",
       "      <td>0.0</td>\n",
       "      <td>7.07</td>\n",
       "      <td>0.0</td>\n",
       "      <td>0.469</td>\n",
       "      <td>7.185</td>\n",
       "      <td>61.1</td>\n",
       "      <td>4.9671</td>\n",
       "      <td>2</td>\n",
       "      <td>242</td>\n",
       "      <td>17.8</td>\n",
       "      <td>392.83</td>\n",
       "      <td>4.03</td>\n",
       "      <td>34.7</td>\n",
       "    </tr>\n",
       "    <tr>\n",
       "      <th>3</th>\n",
       "      <td>0.03237</td>\n",
       "      <td>0.0</td>\n",
       "      <td>2.18</td>\n",
       "      <td>0.0</td>\n",
       "      <td>0.458</td>\n",
       "      <td>6.998</td>\n",
       "      <td>45.8</td>\n",
       "      <td>6.0622</td>\n",
       "      <td>3</td>\n",
       "      <td>222</td>\n",
       "      <td>18.7</td>\n",
       "      <td>394.63</td>\n",
       "      <td>2.94</td>\n",
       "      <td>33.4</td>\n",
       "    </tr>\n",
       "    <tr>\n",
       "      <th>4</th>\n",
       "      <td>0.06905</td>\n",
       "      <td>0.0</td>\n",
       "      <td>2.18</td>\n",
       "      <td>0.0</td>\n",
       "      <td>0.458</td>\n",
       "      <td>7.147</td>\n",
       "      <td>54.2</td>\n",
       "      <td>6.0622</td>\n",
       "      <td>3</td>\n",
       "      <td>222</td>\n",
       "      <td>18.7</td>\n",
       "      <td>396.90</td>\n",
       "      <td>NaN</td>\n",
       "      <td>36.2</td>\n",
       "    </tr>\n",
       "  </tbody>\n",
       "</table>\n",
       "</div>"
      ],
      "text/plain": [
       "      CRIM    ZN  INDUS  CHAS    NOX     RM   AGE     DIS  RAD  TAX  PTRATIO  \\\n",
       "0  0.00632  18.0   2.31   0.0  0.538  6.575  65.2  4.0900    1  296     15.3   \n",
       "1  0.02731   0.0   7.07   0.0  0.469  6.421  78.9  4.9671    2  242     17.8   \n",
       "2  0.02729   0.0   7.07   0.0  0.469  7.185  61.1  4.9671    2  242     17.8   \n",
       "3  0.03237   0.0   2.18   0.0  0.458  6.998  45.8  6.0622    3  222     18.7   \n",
       "4  0.06905   0.0   2.18   0.0  0.458  7.147  54.2  6.0622    3  222     18.7   \n",
       "\n",
       "        B  LSTAT  PRICE  \n",
       "0  396.90   4.98   24.0  \n",
       "1  396.90   9.14   21.6  \n",
       "2  392.83   4.03   34.7  \n",
       "3  394.63   2.94   33.4  \n",
       "4  396.90    NaN   36.2  "
      ]
     },
     "execution_count": 3,
     "metadata": {},
     "output_type": "execute_result"
    }
   ],
   "source": [
    "data.head()"
   ]
  },
  {
   "cell_type": "code",
   "execution_count": 4,
   "id": "7d7c0a34",
   "metadata": {},
   "outputs": [
    {
     "data": {
      "text/plain": [
       "(506, 14)"
      ]
     },
     "execution_count": 4,
     "metadata": {},
     "output_type": "execute_result"
    }
   ],
   "source": [
    "data.shape #optional"
   ]
  },
  {
   "cell_type": "code",
   "execution_count": 5,
   "id": "fe257021",
   "metadata": {},
   "outputs": [
    {
     "data": {
      "text/plain": [
       "CRIM       20\n",
       "ZN         20\n",
       "INDUS      20\n",
       "CHAS       20\n",
       "NOX         0\n",
       "RM          0\n",
       "AGE        20\n",
       "DIS         0\n",
       "RAD         0\n",
       "TAX         0\n",
       "PTRATIO     0\n",
       "B           0\n",
       "LSTAT      20\n",
       "PRICE       0\n",
       "dtype: int64"
      ]
     },
     "execution_count": 5,
     "metadata": {},
     "output_type": "execute_result"
    }
   ],
   "source": [
    "data.isnull().sum()  "
   ]
  },
  {
   "cell_type": "code",
   "execution_count": 6,
   "id": "81fa276f",
   "metadata": {},
   "outputs": [],
   "source": [
    "data.dropna(inplace=True)"
   ]
  },
  {
   "cell_type": "code",
   "execution_count": 7,
   "id": "d443286c",
   "metadata": {},
   "outputs": [
    {
     "data": {
      "text/html": [
       "<div>\n",
       "<style scoped>\n",
       "    .dataframe tbody tr th:only-of-type {\n",
       "        vertical-align: middle;\n",
       "    }\n",
       "\n",
       "    .dataframe tbody tr th {\n",
       "        vertical-align: top;\n",
       "    }\n",
       "\n",
       "    .dataframe thead th {\n",
       "        text-align: right;\n",
       "    }\n",
       "</style>\n",
       "<table border=\"1\" class=\"dataframe\">\n",
       "  <thead>\n",
       "    <tr style=\"text-align: right;\">\n",
       "      <th></th>\n",
       "      <th>CRIM</th>\n",
       "      <th>ZN</th>\n",
       "      <th>INDUS</th>\n",
       "      <th>CHAS</th>\n",
       "      <th>NOX</th>\n",
       "      <th>RM</th>\n",
       "      <th>AGE</th>\n",
       "      <th>DIS</th>\n",
       "      <th>RAD</th>\n",
       "      <th>TAX</th>\n",
       "      <th>PTRATIO</th>\n",
       "      <th>B</th>\n",
       "      <th>LSTAT</th>\n",
       "      <th>PRICE</th>\n",
       "    </tr>\n",
       "  </thead>\n",
       "  <tbody>\n",
       "    <tr>\n",
       "      <th>count</th>\n",
       "      <td>394.000000</td>\n",
       "      <td>394.000000</td>\n",
       "      <td>394.000000</td>\n",
       "      <td>394.000000</td>\n",
       "      <td>394.000000</td>\n",
       "      <td>394.000000</td>\n",
       "      <td>394.000000</td>\n",
       "      <td>394.000000</td>\n",
       "      <td>394.000000</td>\n",
       "      <td>394.000000</td>\n",
       "      <td>394.000000</td>\n",
       "      <td>394.000000</td>\n",
       "      <td>394.000000</td>\n",
       "      <td>394.000000</td>\n",
       "    </tr>\n",
       "    <tr>\n",
       "      <th>mean</th>\n",
       "      <td>3.690136</td>\n",
       "      <td>11.460660</td>\n",
       "      <td>11.000863</td>\n",
       "      <td>0.068528</td>\n",
       "      <td>0.553215</td>\n",
       "      <td>6.280015</td>\n",
       "      <td>68.932741</td>\n",
       "      <td>3.805268</td>\n",
       "      <td>9.403553</td>\n",
       "      <td>406.431472</td>\n",
       "      <td>18.537563</td>\n",
       "      <td>358.490939</td>\n",
       "      <td>12.769112</td>\n",
       "      <td>22.359645</td>\n",
       "    </tr>\n",
       "    <tr>\n",
       "      <th>std</th>\n",
       "      <td>9.202423</td>\n",
       "      <td>23.954082</td>\n",
       "      <td>6.908364</td>\n",
       "      <td>0.252971</td>\n",
       "      <td>0.113112</td>\n",
       "      <td>0.697985</td>\n",
       "      <td>27.888705</td>\n",
       "      <td>2.098571</td>\n",
       "      <td>8.633451</td>\n",
       "      <td>168.312419</td>\n",
       "      <td>2.166460</td>\n",
       "      <td>89.283295</td>\n",
       "      <td>7.308430</td>\n",
       "      <td>9.142979</td>\n",
       "    </tr>\n",
       "    <tr>\n",
       "      <th>min</th>\n",
       "      <td>0.006320</td>\n",
       "      <td>0.000000</td>\n",
       "      <td>0.460000</td>\n",
       "      <td>0.000000</td>\n",
       "      <td>0.389000</td>\n",
       "      <td>3.561000</td>\n",
       "      <td>2.900000</td>\n",
       "      <td>1.129600</td>\n",
       "      <td>1.000000</td>\n",
       "      <td>187.000000</td>\n",
       "      <td>12.600000</td>\n",
       "      <td>2.600000</td>\n",
       "      <td>1.730000</td>\n",
       "      <td>5.000000</td>\n",
       "    </tr>\n",
       "    <tr>\n",
       "      <th>25%</th>\n",
       "      <td>0.081955</td>\n",
       "      <td>0.000000</td>\n",
       "      <td>5.130000</td>\n",
       "      <td>0.000000</td>\n",
       "      <td>0.453000</td>\n",
       "      <td>5.879250</td>\n",
       "      <td>45.475000</td>\n",
       "      <td>2.110100</td>\n",
       "      <td>4.000000</td>\n",
       "      <td>280.250000</td>\n",
       "      <td>17.400000</td>\n",
       "      <td>376.707500</td>\n",
       "      <td>7.125000</td>\n",
       "      <td>16.800000</td>\n",
       "    </tr>\n",
       "    <tr>\n",
       "      <th>50%</th>\n",
       "      <td>0.268880</td>\n",
       "      <td>0.000000</td>\n",
       "      <td>8.560000</td>\n",
       "      <td>0.000000</td>\n",
       "      <td>0.538000</td>\n",
       "      <td>6.201500</td>\n",
       "      <td>77.700000</td>\n",
       "      <td>3.199200</td>\n",
       "      <td>5.000000</td>\n",
       "      <td>330.000000</td>\n",
       "      <td>19.100000</td>\n",
       "      <td>392.190000</td>\n",
       "      <td>11.300000</td>\n",
       "      <td>21.050000</td>\n",
       "    </tr>\n",
       "    <tr>\n",
       "      <th>75%</th>\n",
       "      <td>3.435973</td>\n",
       "      <td>12.500000</td>\n",
       "      <td>18.100000</td>\n",
       "      <td>0.000000</td>\n",
       "      <td>0.624000</td>\n",
       "      <td>6.605500</td>\n",
       "      <td>94.250000</td>\n",
       "      <td>5.116700</td>\n",
       "      <td>24.000000</td>\n",
       "      <td>666.000000</td>\n",
       "      <td>20.200000</td>\n",
       "      <td>396.900000</td>\n",
       "      <td>17.117500</td>\n",
       "      <td>25.000000</td>\n",
       "    </tr>\n",
       "    <tr>\n",
       "      <th>max</th>\n",
       "      <td>88.976200</td>\n",
       "      <td>100.000000</td>\n",
       "      <td>27.740000</td>\n",
       "      <td>1.000000</td>\n",
       "      <td>0.871000</td>\n",
       "      <td>8.780000</td>\n",
       "      <td>100.000000</td>\n",
       "      <td>12.126500</td>\n",
       "      <td>24.000000</td>\n",
       "      <td>711.000000</td>\n",
       "      <td>22.000000</td>\n",
       "      <td>396.900000</td>\n",
       "      <td>37.970000</td>\n",
       "      <td>50.000000</td>\n",
       "    </tr>\n",
       "  </tbody>\n",
       "</table>\n",
       "</div>"
      ],
      "text/plain": [
       "             CRIM          ZN       INDUS        CHAS         NOX          RM  \\\n",
       "count  394.000000  394.000000  394.000000  394.000000  394.000000  394.000000   \n",
       "mean     3.690136   11.460660   11.000863    0.068528    0.553215    6.280015   \n",
       "std      9.202423   23.954082    6.908364    0.252971    0.113112    0.697985   \n",
       "min      0.006320    0.000000    0.460000    0.000000    0.389000    3.561000   \n",
       "25%      0.081955    0.000000    5.130000    0.000000    0.453000    5.879250   \n",
       "50%      0.268880    0.000000    8.560000    0.000000    0.538000    6.201500   \n",
       "75%      3.435973   12.500000   18.100000    0.000000    0.624000    6.605500   \n",
       "max     88.976200  100.000000   27.740000    1.000000    0.871000    8.780000   \n",
       "\n",
       "              AGE         DIS         RAD         TAX     PTRATIO           B  \\\n",
       "count  394.000000  394.000000  394.000000  394.000000  394.000000  394.000000   \n",
       "mean    68.932741    3.805268    9.403553  406.431472   18.537563  358.490939   \n",
       "std     27.888705    2.098571    8.633451  168.312419    2.166460   89.283295   \n",
       "min      2.900000    1.129600    1.000000  187.000000   12.600000    2.600000   \n",
       "25%     45.475000    2.110100    4.000000  280.250000   17.400000  376.707500   \n",
       "50%     77.700000    3.199200    5.000000  330.000000   19.100000  392.190000   \n",
       "75%     94.250000    5.116700   24.000000  666.000000   20.200000  396.900000   \n",
       "max    100.000000   12.126500   24.000000  711.000000   22.000000  396.900000   \n",
       "\n",
       "            LSTAT       PRICE  \n",
       "count  394.000000  394.000000  \n",
       "mean    12.769112   22.359645  \n",
       "std      7.308430    9.142979  \n",
       "min      1.730000    5.000000  \n",
       "25%      7.125000   16.800000  \n",
       "50%     11.300000   21.050000  \n",
       "75%     17.117500   25.000000  \n",
       "max     37.970000   50.000000  "
      ]
     },
     "execution_count": 7,
     "metadata": {},
     "output_type": "execute_result"
    }
   ],
   "source": [
    "data.describe()  #optional"
   ]
  },
  {
   "cell_type": "code",
   "execution_count": 8,
   "id": "19da9215",
   "metadata": {},
   "outputs": [
    {
     "name": "stdout",
     "output_type": "stream",
     "text": [
      "<class 'pandas.core.frame.DataFrame'>\n",
      "Int64Index: 394 entries, 0 to 504\n",
      "Data columns (total 14 columns):\n",
      " #   Column   Non-Null Count  Dtype  \n",
      "---  ------   --------------  -----  \n",
      " 0   CRIM     394 non-null    float64\n",
      " 1   ZN       394 non-null    float64\n",
      " 2   INDUS    394 non-null    float64\n",
      " 3   CHAS     394 non-null    float64\n",
      " 4   NOX      394 non-null    float64\n",
      " 5   RM       394 non-null    float64\n",
      " 6   AGE      394 non-null    float64\n",
      " 7   DIS      394 non-null    float64\n",
      " 8   RAD      394 non-null    int64  \n",
      " 9   TAX      394 non-null    int64  \n",
      " 10  PTRATIO  394 non-null    float64\n",
      " 11  B        394 non-null    float64\n",
      " 12  LSTAT    394 non-null    float64\n",
      " 13  PRICE    394 non-null    float64\n",
      "dtypes: float64(12), int64(2)\n",
      "memory usage: 46.2 KB\n"
     ]
    }
   ],
   "source": [
    "data.info()  #optional"
   ]
  },
  {
   "cell_type": "code",
   "execution_count": 9,
   "id": "981dcc8b",
   "metadata": {},
   "outputs": [
    {
     "data": {
      "text/plain": [
       "<AxesSubplot:xlabel='PRICE', ylabel='Count'>"
      ]
     },
     "execution_count": 9,
     "metadata": {},
     "output_type": "execute_result"
    },
    {
     "data": {
      "image/png": "[encoded data removed]",
      "text/plain": [
       "<Figure size 432x288 with 1 Axes>"
      ]
     },
     "metadata": {
      "needs_background": "light"
     },
     "output_type": "display_data"
    }
   ],
   "source": [
    "import seaborn as sns\n",
    "sns.histplot(data.PRICE)"
   ]
  },
  {
   "cell_type": "code",
   "execution_count": null,
   "id": "b242e199",
   "metadata": {},
   "outputs": [],
   "source": []
  },
  {
   "cell_type": "code",
   "execution_count": 10,
   "id": "b9a4d1ca",
   "metadata": {},
   "outputs": [
    {
     "data": {
      "text/plain": [
       "CRIM      -0.397230\n",
       "ZN         0.406822\n",
       "INDUS     -0.510829\n",
       "CHAS       0.173701\n",
       "NOX       -0.459054\n",
       "RM         0.723951\n",
       "AGE       -0.407470\n",
       "DIS        0.279547\n",
       "RAD       -0.416638\n",
       "TAX       -0.508864\n",
       "PTRATIO   -0.543809\n",
       "B          0.347256\n",
       "LSTAT     -0.743450\n",
       "PRICE      1.000000\n",
       "Name: PRICE, dtype: float64"
      ]
     },
     "execution_count": 10,
     "metadata": {},
     "output_type": "execute_result"
    }
   ],
   "source": [
    "correlation = data.corr()\n",
    "correlation.loc['PRICE']"
   ]
  },
  {
   "cell_type": "code",
   "execution_count": 11,
   "id": "2d3f57f0",
   "metadata": {
    "scrolled": true
   },
   "outputs": [
    {
     "data": {
      "text/plain": [
       "<AxesSubplot:>"
      ]
     },
     "execution_count": 11,
     "metadata": {},
     "output_type": "execute_result"
    },
    {
     "data": {
      "image/png": "[encoded data removed]",
      "text/plain": [
       "<Figure size 1080x864 with 2 Axes>"
      ]
     },
     "metadata": {
      "needs_background": "light"
     },
     "output_type": "display_data"
    }
   ],
   "source": [
    "import matplotlib.pyplot as plt\n",
    "fig,axes = plt.subplots(figsize=(15,12))\n",
    "sns.heatmap(correlation,square = True,annot = True)"
   ]
  },
  {
   "cell_type": "code",
   "execution_count": 12,
   "id": "fbb13b8b",
   "metadata": {},
   "outputs": [
    {
     "data": {
      "image/png": "[encoded data removed]",
      "text/plain": [
       "<Figure size 1440x360 with 3 Axes>"
      ]
     },
     "metadata": {
      "needs_background": "light"
     },
     "output_type": "display_data"
    }
   ],
   "source": [
    "plt.figure(figsize=(20, 5))\n",
    "\n",
    "features = ['LSTAT', 'RM', 'PTRATIO']\n",
    "for i, col in enumerate(features):\n",
    "    plt.subplot(1, len(features), i+1)\n",
    "    x = data[col]\n",
    "    y = data.PRICE\n",
    "    plt.scatter(x, y, marker='o')\n",
    "    plt.title(\"Variation in House prices\")\n",
    "    plt.xlabel(col)\n",
    "    plt.ylabel('House prices in $1000')\n",
    "    \n",
    "plt.show()\n"
   ]
  },
  {
   "cell_type": "code",
   "execution_count": 13,
   "id": "112fd312",
   "metadata": {},
   "outputs": [],
   "source": [
    "X = data.iloc[:,:-1]\n",
    "y= data.PRICE"
   ]
  },
  {
   "cell_type": "code",
   "execution_count": 14,
   "id": "0e1b149d",
   "metadata": {},
   "outputs": [],
   "source": [
    "from sklearn.model_selection import train_test_split\n",
    "import numpy as np\n",
    "\n",
    "X_train, X_test, y_train, y_test = train_test_split(X, y, test_size=0.2, random_state=42)\n",
    "\n",
    "mean = X_train.mean(axis=0)\n",
    "std = X_train.std(axis=0)\n",
    "X_train = (X_train - mean) / std\n",
    "X_test = (X_test - mean) / std\n",
    "\n"
   ]
  },
  {
   "cell_type": "code",
   "execution_count": 15,
   "id": "a1386a81",
   "metadata": {},
   "outputs": [],
   "source": [
    "from sklearn.linear_model import LinearRegression"
   ]
  },
  {
   "cell_type": "code",
   "execution_count": 16,
   "id": "5b8d7b77",
   "metadata": {},
   "outputs": [],
   "source": [
    "regressor = LinearRegression()"
   ]
  },
  {
   "cell_type": "code",
   "execution_count": 17,
   "id": "4aae8289",
   "metadata": {},
   "outputs": [
    {
     "data": {
      "text/plain": [
       "LinearRegression(copy_X=True, fit_intercept=True, n_jobs=None, normalize=False)"
      ]
     },
     "execution_count": 17,
     "metadata": {},
     "output_type": "execute_result"
    }
   ],
   "source": [
    "regressor.fit(X_train,y_train)"
   ]
  },
  {
   "cell_type": "code",
   "execution_count": 18,
   "id": "2dc6264a",
   "metadata": {},
   "outputs": [],
   "source": [
    "y_pred = regressor.predict(X_test)"
   ]
  },
  {
   "cell_type": "code",
   "execution_count": 19,
   "id": "13816fa0",
   "metadata": {
    "scrolled": true
   },
   "outputs": [
    {
     "name": "stdout",
     "output_type": "stream",
     "text": [
      "5.608390826694485\n"
     ]
    }
   ],
   "source": [
    "from sklearn.metrics import mean_squared_error\n",
    "rmse = (np.sqrt(mean_squared_error(y_test, y_pred)))\n",
    "print(rmse)"
   ]
  },
  {
   "cell_type": "code",
   "execution_count": 20,
   "id": "10a1a0c5",
   "metadata": {},
   "outputs": [
    {
     "name": "stdout",
     "output_type": "stream",
     "text": [
      "0.6270849941673193\n"
     ]
    }
   ],
   "source": [
    "from sklearn.metrics import r2_score\n",
    "r2 = r2_score(y_test, y_pred)\n",
    "print(r2) #accuracy without deep learning"
   ]
  },
  {
   "cell_type": "code",
   "execution_count": 21,
   "id": "6157d1ab",
   "metadata": {},
   "outputs": [],
   "source": [
    "from sklearn.preprocessing import StandardScaler\n",
    "sc = StandardScaler()\n",
    "X_train = sc.fit_transform(X_train)\n",
    "X_test = sc.transform(X_test)"
   ]
  },
  {
   "cell_type": "code",
   "execution_count": 22,
   "id": "41117c6b",
   "metadata": {},
   "outputs": [],
   "source": [
    "import tensorflow as tf\n",
    "from keras.layers import Dense, Activation,Dropout\n",
    "from keras.models import Sequential\n",
    "\n",
    "model = Sequential()\n",
    "model.add(Dense(128,activation = 'relu',input_dim =13))\n",
    "model.add(Dense(64,activation = 'relu'))\n",
    "model.add(Dense(32,activation = 'relu'))\n",
    "model.add(Dense(16,activation = 'relu'))\n",
    "model.add(Dense(1))"
   ]
  },
  {
   "cell_type": "code",
   "execution_count": 23,
   "id": "cd1db5be",
   "metadata": {},
   "outputs": [],
   "source": [
    "model.compile(optimizer = 'adam',loss ='mean_squared_error',metrics=['mae'])"
   ]
  },
  {
   "cell_type": "code",
   "execution_count": 24,
   "id": "98788e70",
   "metadata": {},
   "outputs": [
    {
     "name": "stdout",
     "output_type": "stream",
     "text": [
      "Epoch 1/100\n",
      "10/10 [==============================] - 2s 57ms/step - loss: 540.0624 - mae: 21.3610 - val_loss: 413.1541 - val_mae: 19.7401\n",
      "Epoch 2/100\n",
      "10/10 [==============================] - 0s 10ms/step - loss: 482.7337 - mae: 19.9767 - val_loss: 344.0527 - val_mae: 17.9627\n",
      "Epoch 3/100\n",
      "10/10 [==============================] - 0s 9ms/step - loss: 374.4032 - mae: 17.1933 - val_loss: 225.6652 - val_mae: 14.3965\n",
      "Epoch 4/100\n",
      "10/10 [==============================] - 0s 10ms/step - loss: 211.9434 - mae: 12.2519 - val_loss: 81.7735 - val_mae: 7.8339\n",
      "Epoch 5/100\n",
      "10/10 [==============================] - 0s 10ms/step - loss: 87.1385 - mae: 7.4204 - val_loss: 49.4023 - val_mae: 5.9782\n",
      "Epoch 6/100\n",
      "10/10 [==============================] - 0s 9ms/step - loss: 63.8323 - mae: 6.2407 - val_loss: 37.4534 - val_mae: 4.9765\n",
      "Epoch 7/100\n",
      "10/10 [==============================] - 0s 11ms/step - loss: 35.4178 - mae: 4.5495 - val_loss: 28.4096 - val_mae: 3.9003\n",
      "Epoch 8/100\n",
      "10/10 [==============================] - 0s 10ms/step - loss: 25.8657 - mae: 3.8482 - val_loss: 21.7852 - val_mae: 3.3710\n",
      "Epoch 9/100\n",
      "10/10 [==============================] - 0s 11ms/step - loss: 19.6150 - mae: 3.3614 - val_loss: 18.6532 - val_mae: 3.4919\n",
      "Epoch 10/100\n",
      "10/10 [==============================] - 0s 10ms/step - loss: 17.2842 - mae: 3.1345 - val_loss: 15.9490 - val_mae: 3.1157\n",
      "Epoch 11/100\n",
      "10/10 [==============================] - 0s 9ms/step - loss: 15.5042 - mae: 2.9317 - val_loss: 14.1061 - val_mae: 2.9534\n",
      "Epoch 12/100\n",
      "10/10 [==============================] - 0s 9ms/step - loss: 14.4600 - mae: 2.8227 - val_loss: 12.8169 - val_mae: 2.7716\n",
      "Epoch 13/100\n",
      "10/10 [==============================] - 0s 11ms/step - loss: 13.3860 - mae: 2.6982 - val_loss: 11.3968 - val_mae: 2.5652\n",
      "Epoch 14/100\n",
      "10/10 [==============================] - 0s 10ms/step - loss: 12.8176 - mae: 2.6148 - val_loss: 10.6164 - val_mae: 2.4563\n",
      "Epoch 15/100\n",
      "10/10 [==============================] - 0s 10ms/step - loss: 12.4632 - mae: 2.5876 - val_loss: 9.9950 - val_mae: 2.3571\n",
      "Epoch 16/100\n",
      "10/10 [==============================] - 0s 11ms/step - loss: 11.7474 - mae: 2.4858 - val_loss: 9.4721 - val_mae: 2.2910\n",
      "Epoch 17/100\n",
      "10/10 [==============================] - 0s 10ms/step - loss: 11.4583 - mae: 2.4488 - val_loss: 9.2536 - val_mae: 2.2384\n",
      "Epoch 18/100\n",
      "10/10 [==============================] - 0s 11ms/step - loss: 10.9686 - mae: 2.4003 - val_loss: 8.6699 - val_mae: 2.1736\n",
      "Epoch 19/100\n",
      "10/10 [==============================] - 0s 10ms/step - loss: 10.5677 - mae: 2.3452 - val_loss: 7.7979 - val_mae: 2.1105\n",
      "Epoch 20/100\n",
      "10/10 [==============================] - 0s 10ms/step - loss: 10.2846 - mae: 2.3350 - val_loss: 7.7292 - val_mae: 2.1421\n",
      "Epoch 21/100\n",
      "10/10 [==============================] - 0s 11ms/step - loss: 10.2402 - mae: 2.2888 - val_loss: 8.0024 - val_mae: 2.0848\n",
      "Epoch 22/100\n",
      "10/10 [==============================] - 0s 10ms/step - loss: 9.7261 - mae: 2.2488 - val_loss: 7.3862 - val_mae: 2.0741\n",
      "Epoch 23/100\n",
      "10/10 [==============================] - 0s 11ms/step - loss: 9.8174 - mae: 2.2745 - val_loss: 7.1338 - val_mae: 2.0843\n",
      "Epoch 24/100\n",
      "10/10 [==============================] - 0s 11ms/step - loss: 9.4465 - mae: 2.2200 - val_loss: 7.2258 - val_mae: 2.0464\n",
      "Epoch 25/100\n",
      "10/10 [==============================] - 0s 11ms/step - loss: 9.3655 - mae: 2.2409 - val_loss: 7.1630 - val_mae: 2.1024\n",
      "Epoch 26/100\n",
      "10/10 [==============================] - 0s 11ms/step - loss: 8.9321 - mae: 2.1872 - val_loss: 6.9677 - val_mae: 2.0120\n",
      "Epoch 27/100\n",
      "10/10 [==============================] - 0s 10ms/step - loss: 8.6369 - mae: 2.1568 - val_loss: 6.7884 - val_mae: 1.9851\n",
      "Epoch 28/100\n",
      "10/10 [==============================] - 0s 11ms/step - loss: 8.5560 - mae: 2.1440 - val_loss: 6.2552 - val_mae: 1.9037\n",
      "Epoch 29/100\n",
      "10/10 [==============================] - 0s 11ms/step - loss: 8.3907 - mae: 2.1180 - val_loss: 5.6092 - val_mae: 1.8427\n",
      "Epoch 30/100\n",
      "10/10 [==============================] - 0s 16ms/step - loss: 8.2597 - mae: 2.1243 - val_loss: 6.5860 - val_mae: 1.9506\n",
      "Epoch 31/100\n",
      "10/10 [==============================] - 0s 11ms/step - loss: 7.8763 - mae: 2.0483 - val_loss: 5.6542 - val_mae: 1.8010\n",
      "Epoch 32/100\n",
      "10/10 [==============================] - 0s 9ms/step - loss: 7.9085 - mae: 2.0584 - val_loss: 6.3505 - val_mae: 1.9269\n",
      "Epoch 33/100\n",
      "10/10 [==============================] - 0s 10ms/step - loss: 7.7548 - mae: 2.0366 - val_loss: 5.6637 - val_mae: 1.8462\n",
      "Epoch 34/100\n",
      "10/10 [==============================] - 0s 10ms/step - loss: 7.5338 - mae: 2.0036 - val_loss: 6.4051 - val_mae: 1.9559\n",
      "Epoch 35/100\n",
      "10/10 [==============================] - 0s 10ms/step - loss: 7.5108 - mae: 2.0177 - val_loss: 6.0874 - val_mae: 1.9053\n",
      "Epoch 36/100\n",
      "10/10 [==============================] - 0s 9ms/step - loss: 7.3530 - mae: 1.9979 - val_loss: 5.4956 - val_mae: 1.7577\n",
      "Epoch 37/100\n",
      "10/10 [==============================] - 0s 10ms/step - loss: 7.2538 - mae: 1.9676 - val_loss: 5.3761 - val_mae: 1.7727\n",
      "Epoch 38/100\n",
      "10/10 [==============================] - 0s 10ms/step - loss: 7.2838 - mae: 1.9993 - val_loss: 5.5627 - val_mae: 1.8041\n",
      "Epoch 39/100\n",
      "10/10 [==============================] - 0s 10ms/step - loss: 7.1239 - mae: 1.9552 - val_loss: 5.6274 - val_mae: 1.8123\n",
      "Epoch 40/100\n",
      "10/10 [==============================] - 0s 10ms/step - loss: 6.8632 - mae: 1.9341 - val_loss: 5.1958 - val_mae: 1.7079\n",
      "Epoch 41/100\n",
      "10/10 [==============================] - 0s 11ms/step - loss: 6.7689 - mae: 1.9036 - val_loss: 5.4039 - val_mae: 1.7759\n",
      "Epoch 42/100\n",
      "10/10 [==============================] - 0s 10ms/step - loss: 6.7579 - mae: 1.8925 - val_loss: 5.7807 - val_mae: 1.8166\n",
      "Epoch 43/100\n",
      "10/10 [==============================] - 0s 11ms/step - loss: 6.8560 - mae: 1.9197 - val_loss: 5.4014 - val_mae: 1.7108\n",
      "Epoch 44/100\n",
      "10/10 [==============================] - 0s 10ms/step - loss: 6.5214 - mae: 1.9084 - val_loss: 5.1594 - val_mae: 1.6897\n",
      "Epoch 45/100\n",
      "10/10 [==============================] - 0s 10ms/step - loss: 6.4839 - mae: 1.8721 - val_loss: 5.0271 - val_mae: 1.7134\n",
      "Epoch 46/100\n",
      "10/10 [==============================] - 0s 10ms/step - loss: 6.3355 - mae: 1.8759 - val_loss: 5.2095 - val_mae: 1.7697\n",
      "Epoch 47/100\n",
      "10/10 [==============================] - 0s 10ms/step - loss: 6.3378 - mae: 1.8657 - val_loss: 5.2621 - val_mae: 1.7323\n",
      "Epoch 48/100\n",
      "10/10 [==============================] - 0s 9ms/step - loss: 6.1692 - mae: 1.8369 - val_loss: 4.9204 - val_mae: 1.6532\n",
      "Epoch 49/100\n",
      "10/10 [==============================] - 0s 9ms/step - loss: 6.1296 - mae: 1.8148 - val_loss: 4.8900 - val_mae: 1.7000\n",
      "Epoch 50/100\n",
      "10/10 [==============================] - 0s 11ms/step - loss: 6.2488 - mae: 1.8817 - val_loss: 4.7823 - val_mae: 1.6352\n",
      "Epoch 51/100\n",
      "10/10 [==============================] - 0s 9ms/step - loss: 6.2383 - mae: 1.8325 - val_loss: 4.9100 - val_mae: 1.6884\n",
      "Epoch 52/100\n",
      "10/10 [==============================] - 0s 9ms/step - loss: 5.9580 - mae: 1.8166 - val_loss: 4.9981 - val_mae: 1.7129\n",
      "Epoch 53/100\n",
      "10/10 [==============================] - 0s 10ms/step - loss: 5.9885 - mae: 1.7840 - val_loss: 4.6756 - val_mae: 1.6259\n",
      "Epoch 54/100\n",
      "10/10 [==============================] - 0s 9ms/step - loss: 5.8009 - mae: 1.7951 - val_loss: 4.4556 - val_mae: 1.5715\n",
      "Epoch 55/100\n",
      "10/10 [==============================] - 0s 10ms/step - loss: 5.6821 - mae: 1.7327 - val_loss: 4.5127 - val_mae: 1.5766\n",
      "Epoch 56/100\n",
      "10/10 [==============================] - 0s 10ms/step - loss: 5.4941 - mae: 1.7371 - val_loss: 4.6767 - val_mae: 1.6067\n",
      "Epoch 57/100\n",
      "10/10 [==============================] - 0s 11ms/step - loss: 5.4510 - mae: 1.7270 - val_loss: 4.6235 - val_mae: 1.6338\n",
      "Epoch 58/100\n",
      "10/10 [==============================] - 0s 10ms/step - loss: 5.2955 - mae: 1.7088 - val_loss: 4.1650 - val_mae: 1.5150\n",
      "Epoch 59/100\n",
      "10/10 [==============================] - 0s 11ms/step - loss: 5.2583 - mae: 1.6898 - val_loss: 4.3486 - val_mae: 1.5614\n",
      "Epoch 60/100\n",
      "10/10 [==============================] - 0s 10ms/step - loss: 5.2977 - mae: 1.6788 - val_loss: 4.3487 - val_mae: 1.5864\n",
      "Epoch 61/100\n",
      "10/10 [==============================] - 0s 11ms/step - loss: 5.3987 - mae: 1.7177 - val_loss: 4.6087 - val_mae: 1.6006\n",
      "Epoch 62/100\n"
     ]
    },
    {
     "name": "stdout",
     "output_type": "stream",
     "text": [
      "10/10 [==============================] - 0s 11ms/step - loss: 5.3260 - mae: 1.6842 - val_loss: 4.8405 - val_mae: 1.6991\n",
      "Epoch 63/100\n",
      "10/10 [==============================] - 0s 11ms/step - loss: 5.1349 - mae: 1.6944 - val_loss: 4.0944 - val_mae: 1.4746\n",
      "Epoch 64/100\n",
      "10/10 [==============================] - 0s 10ms/step - loss: 5.2395 - mae: 1.6686 - val_loss: 4.9951 - val_mae: 1.7453\n",
      "Epoch 65/100\n",
      "10/10 [==============================] - 0s 9ms/step - loss: 4.7783 - mae: 1.6243 - val_loss: 3.9856 - val_mae: 1.4835\n",
      "Epoch 66/100\n",
      "10/10 [==============================] - 0s 11ms/step - loss: 4.9495 - mae: 1.6380 - val_loss: 4.4882 - val_mae: 1.6355\n",
      "Epoch 67/100\n",
      "10/10 [==============================] - 0s 10ms/step - loss: 4.6962 - mae: 1.6150 - val_loss: 3.6383 - val_mae: 1.4042\n",
      "Epoch 68/100\n",
      "10/10 [==============================] - 0s 11ms/step - loss: 4.6144 - mae: 1.5867 - val_loss: 4.0029 - val_mae: 1.5066\n",
      "Epoch 69/100\n",
      "10/10 [==============================] - 0s 9ms/step - loss: 4.5848 - mae: 1.5916 - val_loss: 4.1493 - val_mae: 1.5382\n",
      "Epoch 70/100\n",
      "10/10 [==============================] - 0s 11ms/step - loss: 5.0770 - mae: 1.6647 - val_loss: 4.3898 - val_mae: 1.6144\n",
      "Epoch 71/100\n",
      "10/10 [==============================] - 0s 11ms/step - loss: 4.5972 - mae: 1.6077 - val_loss: 3.9180 - val_mae: 1.4638\n",
      "Epoch 72/100\n",
      "10/10 [==============================] - 0s 9ms/step - loss: 4.4330 - mae: 1.5445 - val_loss: 4.0799 - val_mae: 1.4930\n",
      "Epoch 73/100\n",
      "10/10 [==============================] - 0s 11ms/step - loss: 4.4233 - mae: 1.5640 - val_loss: 4.1247 - val_mae: 1.5485\n",
      "Epoch 74/100\n",
      "10/10 [==============================] - 0s 10ms/step - loss: 4.2343 - mae: 1.4961 - val_loss: 3.7818 - val_mae: 1.4706\n",
      "Epoch 75/100\n",
      "10/10 [==============================] - 0s 9ms/step - loss: 4.1841 - mae: 1.5266 - val_loss: 3.7394 - val_mae: 1.4274\n",
      "Epoch 76/100\n",
      "10/10 [==============================] - 0s 10ms/step - loss: 4.2656 - mae: 1.5205 - val_loss: 3.5700 - val_mae: 1.4276\n",
      "Epoch 77/100\n",
      "10/10 [==============================] - 0s 9ms/step - loss: 4.3915 - mae: 1.5592 - val_loss: 4.2869 - val_mae: 1.5928\n",
      "Epoch 78/100\n",
      "10/10 [==============================] - 0s 12ms/step - loss: 4.4712 - mae: 1.6086 - val_loss: 3.4389 - val_mae: 1.4027\n",
      "Epoch 79/100\n",
      "10/10 [==============================] - 0s 11ms/step - loss: 4.0810 - mae: 1.4801 - val_loss: 4.0873 - val_mae: 1.5256\n",
      "Epoch 80/100\n",
      "10/10 [==============================] - 0s 9ms/step - loss: 4.0491 - mae: 1.5000 - val_loss: 3.7832 - val_mae: 1.4486\n",
      "Epoch 81/100\n",
      "10/10 [==============================] - 0s 10ms/step - loss: 3.8661 - mae: 1.4672 - val_loss: 3.5019 - val_mae: 1.3525\n",
      "Epoch 82/100\n",
      "10/10 [==============================] - 0s 10ms/step - loss: 3.8190 - mae: 1.4248 - val_loss: 3.8362 - val_mae: 1.5110\n",
      "Epoch 83/100\n",
      "10/10 [==============================] - 0s 11ms/step - loss: 3.8724 - mae: 1.4948 - val_loss: 3.6886 - val_mae: 1.4641\n",
      "Epoch 84/100\n",
      "10/10 [==============================] - 0s 11ms/step - loss: 4.1772 - mae: 1.5313 - val_loss: 4.5709 - val_mae: 1.6703\n",
      "Epoch 85/100\n",
      "10/10 [==============================] - 0s 10ms/step - loss: 3.8507 - mae: 1.4528 - val_loss: 3.3567 - val_mae: 1.3798\n",
      "Epoch 86/100\n",
      "10/10 [==============================] - 0s 11ms/step - loss: 3.6508 - mae: 1.4051 - val_loss: 3.6540 - val_mae: 1.4478\n",
      "Epoch 87/100\n",
      "10/10 [==============================] - 0s 10ms/step - loss: 3.6335 - mae: 1.4323 - val_loss: 3.9680 - val_mae: 1.5125\n",
      "Epoch 88/100\n",
      "10/10 [==============================] - 0s 11ms/step - loss: 3.7344 - mae: 1.4162 - val_loss: 4.0159 - val_mae: 1.5718\n",
      "Epoch 89/100\n",
      "10/10 [==============================] - 0s 11ms/step - loss: 3.6337 - mae: 1.4148 - val_loss: 3.5852 - val_mae: 1.4562\n",
      "Epoch 90/100\n",
      "10/10 [==============================] - 0s 11ms/step - loss: 3.5464 - mae: 1.4372 - val_loss: 3.5008 - val_mae: 1.4623\n",
      "Epoch 91/100\n",
      "10/10 [==============================] - 0s 11ms/step - loss: 3.6008 - mae: 1.3595 - val_loss: 3.8726 - val_mae: 1.5264\n",
      "Epoch 92/100\n",
      "10/10 [==============================] - 0s 14ms/step - loss: 3.4692 - mae: 1.3995 - val_loss: 3.4643 - val_mae: 1.4085\n",
      "Epoch 93/100\n",
      "10/10 [==============================] - 0s 13ms/step - loss: 3.3575 - mae: 1.3498 - val_loss: 3.8501 - val_mae: 1.5411\n",
      "Epoch 94/100\n",
      "10/10 [==============================] - 0s 12ms/step - loss: 3.4993 - mae: 1.4115 - val_loss: 3.1540 - val_mae: 1.3733\n",
      "Epoch 95/100\n",
      "10/10 [==============================] - 0s 12ms/step - loss: 3.3384 - mae: 1.3974 - val_loss: 3.2901 - val_mae: 1.3876\n",
      "Epoch 96/100\n",
      "10/10 [==============================] - 0s 11ms/step - loss: 3.5626 - mae: 1.4112 - val_loss: 4.2662 - val_mae: 1.5503\n",
      "Epoch 97/100\n",
      "10/10 [==============================] - 0s 10ms/step - loss: 3.1813 - mae: 1.3404 - val_loss: 3.3144 - val_mae: 1.3903\n",
      "Epoch 98/100\n",
      "10/10 [==============================] - 0s 11ms/step - loss: 3.1685 - mae: 1.3357 - val_loss: 3.1206 - val_mae: 1.3695\n",
      "Epoch 99/100\n",
      "10/10 [==============================] - 0s 10ms/step - loss: 3.2227 - mae: 1.3154 - val_loss: 4.2817 - val_mae: 1.5983\n",
      "Epoch 100/100\n",
      "10/10 [==============================] - 0s 11ms/step - loss: 3.2747 - mae: 1.3695 - val_loss: 3.2150 - val_mae: 1.3747\n"
     ]
    }
   ],
   "source": [
    "history = model.fit(X_train, y_train, epochs=100, validation_split=0.05)"
   ]
  },
  {
   "cell_type": "code",
   "execution_count": 25,
   "id": "9c678b1a",
   "metadata": {},
   "outputs": [],
   "source": [
    "from plotly.subplots import make_subplots\n",
    "import plotly.graph_objects as go"
   ]
  },
  {
   "cell_type": "code",
   "execution_count": 26,
   "id": "8a32c446",
   "metadata": {},
   "outputs": [
    {
     "name": "stdout",
     "output_type": "stream",
     "text": [
      "3/3 [==============================] - 0s 4ms/step\n",
      "3/3 [==============================] - 0s 4ms/step - loss: 19.5254 - mae: 2.5042\n",
      "Mean squared error on test data:  19.525367736816406\n",
      "Mean absolute error on test data:  2.504230499267578\n"
     ]
    }
   ],
   "source": [
    "y_pred = model.predict(X_test)\n",
    "mse_nn, mae_nn = model.evaluate(X_test, y_test)\n",
    "print('Mean squared error on test data: ', mse_nn)\n",
    "print('Mean absolute error on test data: ', mae_nn)"
   ]
  },
  {
   "cell_type": "code",
   "execution_count": 27,
   "id": "2f00eef9",
   "metadata": {},
   "outputs": [
    {
     "name": "stdout",
     "output_type": "stream",
     "text": [
      "Mean squared error on test data:  31.454047664950842\n",
      "Mean absolute error on test data:  3.367983225154239\n"
     ]
    }
   ],
   "source": [
    "from sklearn.metrics import mean_absolute_error\n",
    "lr_model = LinearRegression()\n",
    "lr_model.fit(X_train, y_train)\n",
    "y_pred_lr = lr_model.predict(X_test)\n",
    "mse_lr = mean_squared_error(y_test, y_pred_lr)\n",
    "mae_lr = mean_absolute_error(y_test, y_pred_lr)\n",
    "print('Mean squared error on test data: ', mse_lr)\n",
    "print('Mean absolute error on test data: ', mae_lr)"
   ]
  },
  {
   "cell_type": "code",
   "execution_count": 28,
   "id": "ce4311ed",
   "metadata": {},
   "outputs": [
    {
     "name": "stdout",
     "output_type": "stream",
     "text": [
      "0.7685098588107884\n"
     ]
    }
   ],
   "source": [
    "from sklearn.metrics import r2_score\n",
    "r2 = r2_score(y_test, y_pred)\n",
    "print(r2) #accuracy with deep learning"
   ]
  },
  {
   "cell_type": "code",
   "execution_count": 29,
   "id": "7c11f186",
   "metadata": {},
   "outputs": [
    {
     "name": "stdout",
     "output_type": "stream",
     "text": [
      "4.418751621269845\n"
     ]
    }
   ],
   "source": [
    "from sklearn.metrics import mean_squared_error\n",
    "rmse = (np.sqrt(mean_squared_error(y_test, y_pred)))\n",
    "print(rmse) #optional"
   ]
  },
  {
   "cell_type": "code",
   "execution_count": 30,
   "id": "54bce795",
   "metadata": {},
   "outputs": [
    {
     "name": "stdout",
     "output_type": "stream",
     "text": [
      "1/1 [==============================] - 0s 48ms/step\n",
      "Predicted house price: [[9.319595]]\n"
     ]
    }
   ],
   "source": [
    "#giving an input\n",
    "import sklearn\n",
    "new_data = sklearn.preprocessing.StandardScaler().fit_transform(([[0.1, 10.0,\n",
    "5.0, 0, 0.4, 6.0, 50, 6.0, 1, 400, 20, 300, 10]]))\n",
    "prediction = model.predict(new_data)\n",
    "print(\"Predicted house price:\", prediction) "
   ]
  },
  {
   "cell_type": "code",
   "execution_count": null,
   "id": "c95ac087",
   "metadata": {},
   "outputs": [],
   "source": []
  },
  {
   "cell_type": "code",
   "execution_count": null,
   "id": "c2de3480",
   "metadata": {},
   "outputs": [],
   "source": []
  }
 ],
 "metadata": {
  "kernelspec": {
   "display_name": "Python 3",
   "language": "python",
   "name": "python3"
  },
  "language_info": {
   "codemirror_mode": {
    "name": "ipython",
    "version": 3
   },
   "file_extension": ".py",
   "mimetype": "text/x-python",
   "name": "python",
   "nbconvert_exporter": "python",
   "pygments_lexer": "ipython3",
   "version": "3.8.8"
  }
 },
 "nbformat": 4,
 "nbformat_minor": 5
}
