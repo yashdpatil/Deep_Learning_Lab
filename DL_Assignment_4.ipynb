{
 "cells": [
  {
   "cell_type": "code",
   "execution_count": 1,
   "id": "37f64ada",
   "metadata": {},
   "outputs": [],
   "source": [
    "import tensorflow as tf\n",
    "import matplotlib.pyplot as plt\n",
    "from tensorflow import keras\n",
    "import numpy as np"
   ]
  },
  {
   "cell_type": "code",
   "execution_count": 2,
   "id": "5cd6104f",
   "metadata": {},
   "outputs": [
    {
     "name": "stdout",
     "output_type": "stream",
     "text": [
      "Downloading data from https://storage.googleapis.com/tensorflow/tf-keras-datasets/train-labels-idx1-ubyte.gz\n",
      "29515/29515 [==============================] - 0s 4us/step\n",
      "Downloading data from https://storage.googleapis.com/tensorflow/tf-keras-datasets/train-images-idx3-ubyte.gz\n",
      "26421880/26421880 [==============================] - 5s 0us/step\n",
      "Downloading data from https://storage.googleapis.com/tensorflow/tf-keras-datasets/t10k-labels-idx1-ubyte.gz\n",
      "5148/5148 [==============================] - 0s 0s/step\n",
      "Downloading data from https://storage.googleapis.com/tensorflow/tf-keras-datasets/t10k-images-idx3-ubyte.gz\n",
      "4422102/4422102 [==============================] - 1s 0us/step\n"
     ]
    }
   ],
   "source": [
    "(x_train, y_train), (x_test, y_test) = keras.datasets.fashion_mnist.load_data()"
   ]
  },
  {
   "cell_type": "code",
   "execution_count": 3,
   "id": "6c353f12",
   "metadata": {},
   "outputs": [
    {
     "data": {
      "text/plain": [
       "<matplotlib.image.AxesImage at 0x243fb22d0d0>"
      ]
     },
     "execution_count": 3,
     "metadata": {},
     "output_type": "execute_result"
    },
    {
     "data": {
      "image/png": "[encoded data removed]",
      "text/plain": [
       "<Figure size 432x288 with 1 Axes>"
      ]
     },
     "metadata": {
      "needs_background": "light"
     },
     "output_type": "display_data"
    }
   ],
   "source": [
    "plt.imshow(x_train[1])\n",
    "plt.imshow(x_train[0])"
   ]
  },
  {
   "cell_type": "code",
   "execution_count": 4,
   "id": "5581faf2",
   "metadata": {},
   "outputs": [],
   "source": [
    "x_train = x_train.astype('float32') / 255.0\n",
    "x_test = x_test.astype('float32') / 255.0\n",
    "x_train = x_train.reshape(-1, 28, 28, 1)\n",
    "x_test = x_test.reshape(-1, 28, 28, 1)"
   ]
  },
  {
   "cell_type": "code",
   "execution_count": 5,
   "id": "e5d4ddfd",
   "metadata": {},
   "outputs": [
    {
     "data": {
      "text/plain": [
       "(10000,)"
      ]
     },
     "execution_count": 5,
     "metadata": {},
     "output_type": "execute_result"
    }
   ],
   "source": [
    "x_train.shape\n",
    "(60000, 28, 28)\n",
    "x_test.shape\n",
    "(10000, 28, 28, 1)\n",
    "y_train.shape\n",
    "(60000,)\n",
    "y_test.shape\n",
    "(10000,)"
   ]
  },
  {
   "cell_type": "code",
   "execution_count": 6,
   "id": "383d0ed9",
   "metadata": {},
   "outputs": [
    {
     "name": "stdout",
     "output_type": "stream",
     "text": [
      "Model: \"sequential\"\n",
      "_________________________________________________________________\n",
      " Layer (type)                Output Shape              Param #   \n",
      "=================================================================\n",
      " conv2d (Conv2D)             (None, 26, 26, 32)        320       \n",
      "                                                                 \n",
      " max_pooling2d (MaxPooling2D  (None, 13, 13, 32)       0         \n",
      " )                                                               \n",
      "                                                                 \n",
      " dropout (Dropout)           (None, 13, 13, 32)        0         \n",
      "                                                                 \n",
      " conv2d_1 (Conv2D)           (None, 11, 11, 64)        18496     \n",
      "                                                                 \n",
      " max_pooling2d_1 (MaxPooling  (None, 5, 5, 64)         0         \n",
      " 2D)                                                             \n",
      "                                                                 \n",
      " dropout_1 (Dropout)         (None, 5, 5, 64)          0         \n",
      "                                                                 \n",
      " conv2d_2 (Conv2D)           (None, 3, 3, 128)         73856     \n",
      "                                                                 \n",
      " flatten (Flatten)           (None, 1152)              0         \n",
      "                                                                 \n",
      " dense (Dense)               (None, 128)               147584    \n",
      "                                                                 \n",
      " dropout_2 (Dropout)         (None, 128)               0         \n",
      "                                                                 \n",
      " dense_1 (Dense)             (None, 10)                1290      \n",
      "                                                                 \n",
      "=================================================================\n",
      "Total params: 241,546\n",
      "Trainable params: 241,546\n",
      "Non-trainable params: 0\n",
      "_________________________________________________________________\n"
     ]
    }
   ],
   "source": [
    "model = keras.Sequential([\n",
    "keras.layers.Conv2D(32, (3,3), activation='relu', input_shape=(28,28,1)),\n",
    "    keras.layers.MaxPooling2D((2,2)),\n",
    "keras.layers.Dropout(0.25),\n",
    "keras.layers.Conv2D(64, (3,3), activation='relu'),\n",
    "keras.layers.MaxPooling2D((2,2)),\n",
    "keras.layers.Dropout(0.25),\n",
    "keras.layers.Conv2D(128, (3,3), activation='relu'),\n",
    "\n",
    "keras.layers.Flatten(),\n",
    "keras.layers.Dense(128, activation='relu'),\n",
    "\n",
    "keras.layers.Dropout(0.25),\n",
    "keras.layers.Dense(10, activation='softmax')])\n",
    "model.summary()"
   ]
  },
  {
   "cell_type": "code",
   "execution_count": 7,
   "id": "0e7b1e99",
   "metadata": {},
   "outputs": [],
   "source": [
    "Model: \"sequential\""
   ]
  },
  {
   "cell_type": "code",
   "execution_count": 8,
   "id": "03685a39",
   "metadata": {},
   "outputs": [
    {
     "name": "stdout",
     "output_type": "stream",
     "text": [
      "Epoch 1/10\n",
      "1875/1875 [==============================] - 71s 37ms/step - loss: 0.5729 - accuracy: 0.7896 - val_loss: 0.4001 - val_accuracy: 0.8519\n",
      "Epoch 2/10\n",
      "1875/1875 [==============================] - 92s 49ms/step - loss: 0.3768 - accuracy: 0.8630 - val_loss: 0.3277 - val_accuracy: 0.8805\n",
      "Epoch 3/10\n",
      "1875/1875 [==============================] - 90s 48ms/step - loss: 0.3276 - accuracy: 0.8803 - val_loss: 0.3009 - val_accuracy: 0.8895\n",
      "Epoch 4/10\n",
      "1875/1875 [==============================] - 68s 36ms/step - loss: 0.2959 - accuracy: 0.8906 - val_loss: 0.2868 - val_accuracy: 0.8945\n",
      "Epoch 5/10\n",
      "1875/1875 [==============================] - 66s 35ms/step - loss: 0.2806 - accuracy: 0.8965 - val_loss: 0.2729 - val_accuracy: 0.9002\n",
      "Epoch 6/10\n",
      "1875/1875 [==============================] - 68s 36ms/step - loss: 0.2693 - accuracy: 0.9020 - val_loss: 0.2641 - val_accuracy: 0.9037\n",
      "Epoch 7/10\n",
      "1875/1875 [==============================] - 66s 35ms/step - loss: 0.2533 - accuracy: 0.9048 - val_loss: 0.2554 - val_accuracy: 0.9042\n",
      "Epoch 8/10\n",
      "1875/1875 [==============================] - 66s 35ms/step - loss: 0.2433 - accuracy: 0.9096 - val_loss: 0.2583 - val_accuracy: 0.9037\n",
      "Epoch 9/10\n",
      "1875/1875 [==============================] - 66s 35ms/step - loss: 0.2369 - accuracy: 0.9114 - val_loss: 0.2582 - val_accuracy: 0.9038\n",
      "Epoch 10/10\n",
      "1875/1875 [==============================] - 66s 35ms/step - loss: 0.2295 - accuracy: 0.9141 - val_loss: 0.2507 - val_accuracy: 0.9061\n",
      "313/313 [==============================] - 4s 11ms/step - loss: 0.2507 - accuracy: 0.9061\n",
      "Test accuracy: 0.9060999751091003\n"
     ]
    }
   ],
   "source": [
    "model.compile(optimizer='adam', loss='sparse_categorical_crossentropy', metrics=['accuracy'])\n",
    "history = model.fit(x_train, y_train, epochs=10, validation_data=(x_test, y_test))\n",
    "test_loss, test_acc = model.evaluate(x_test, y_test)\n",
    "print('Test accuracy:', test_acc)"
   ]
  },
  {
   "cell_type": "code",
   "execution_count": null,
   "id": "31ba382e",
   "metadata": {},
   "outputs": [],
   "source": []
  }
 ],
 "metadata": {
  "kernelspec": {
   "display_name": "Python 3",
   "language": "python",
   "name": "python3"
  },
  "language_info": {
   "codemirror_mode": {
    "name": "ipython",
    "version": 3
   },
   "file_extension": ".py",
   "mimetype": "text/x-python",
   "name": "python",
   "nbconvert_exporter": "python",
   "pygments_lexer": "ipython3",
   "version": "3.8.8"
  }
 },
 "nbformat": 4,
 "nbformat_minor": 5
}
